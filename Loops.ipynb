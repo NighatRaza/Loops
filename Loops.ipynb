{
 "cells": [
  {
   "cell_type": "code",
   "execution_count": 21,
   "id": "8fc03b89",
   "metadata": {},
   "outputs": [],
   "source": [
    "# LOOPS\n",
    "\n",
    "# repeated work\n",
    "# lines of code reduce\n",
    "# code reusable\n",
    "# efficiency increase\n"
   ]
  },
  {
   "cell_type": "code",
   "execution_count": 22,
   "id": "044495d1",
   "metadata": {},
   "outputs": [],
   "source": [
    "# BREAK AND CONTINUE"
   ]
  },
  {
   "cell_type": "code",
   "execution_count": 23,
   "id": "74bf23c0",
   "metadata": {},
   "outputs": [],
   "source": [
    "# FOR LOOP\n",
    "\n",
    "# iterable = jiske har element ko access kia jasky"
   ]
  },
  {
   "cell_type": "code",
   "execution_count": 24,
   "id": "433b629f",
   "metadata": {},
   "outputs": [],
   "source": [
    "students = ['asad','ali','daad','hassan']"
   ]
  },
  {
   "cell_type": "code",
   "execution_count": 25,
   "id": "18824239",
   "metadata": {},
   "outputs": [
    {
     "name": "stdout",
     "output_type": "stream",
     "text": [
      "Asad\n",
      "Ali\n",
      "Daad\n",
      "Hassan\n"
     ]
    }
   ],
   "source": [
    "for student in students:\n",
    "    print(student.capitalize())"
   ]
  },
  {
   "cell_type": "code",
   "execution_count": 26,
   "id": "ff35baad",
   "metadata": {},
   "outputs": [
    {
     "name": "stdout",
     "output_type": "stream",
     "text": [
      "P\n",
      "a\n",
      "k\n",
      "i\n",
      "s\n",
      "t\n",
      "a\n",
      "n\n"
     ]
    }
   ],
   "source": [
    "for char in 'Pakistan':\n",
    "    print(char)"
   ]
  },
  {
   "cell_type": "code",
   "execution_count": 27,
   "id": "1c59e020",
   "metadata": {},
   "outputs": [],
   "source": [
    "# to generate set of numbers\n",
    "# range -> (start,stop-1,step)"
   ]
  },
  {
   "cell_type": "code",
   "execution_count": 28,
   "id": "dd533b02",
   "metadata": {},
   "outputs": [
    {
     "name": "stdout",
     "output_type": "stream",
     "text": [
      "nighat raza\n",
      "nighat raza\n",
      "nighat raza\n",
      "nighat raza\n",
      "nighat raza\n",
      "nighat raza\n",
      "nighat raza\n",
      "nighat raza\n",
      "nighat raza\n",
      "nighat raza\n"
     ]
    }
   ],
   "source": [
    "for i in range(10):\n",
    "    print('nighat raza')"
   ]
  },
  {
   "cell_type": "code",
   "execution_count": null,
   "id": "b9b5b2e7",
   "metadata": {},
   "outputs": [],
   "source": []
  },
  {
   "cell_type": "code",
   "execution_count": 29,
   "id": "dc4d0f12",
   "metadata": {},
   "outputs": [],
   "source": [
    "# break\n",
    "# breaks on that condition and doesnot return to the loop"
   ]
  },
  {
   "cell_type": "code",
   "execution_count": 30,
   "id": "92626a93",
   "metadata": {},
   "outputs": [
    {
     "name": "stdout",
     "output_type": "stream",
     "text": [
      "Asad\n"
     ]
    }
   ],
   "source": [
    "for student in students:\n",
    "    if student.endswith('i'):\n",
    "        break\n",
    "    print(student.capitalize())"
   ]
  },
  {
   "cell_type": "code",
   "execution_count": 31,
   "id": "576fc084",
   "metadata": {},
   "outputs": [
    {
     "name": "stdout",
     "output_type": "stream",
     "text": [
      "0\n",
      "1\n",
      "2\n"
     ]
    }
   ],
   "source": [
    "for a in range(5):\n",
    "    if a==3: break\n",
    "    print(a)"
   ]
  },
  {
   "cell_type": "code",
   "execution_count": null,
   "id": "9de8cf3d",
   "metadata": {},
   "outputs": [],
   "source": []
  },
  {
   "cell_type": "code",
   "execution_count": 32,
   "id": "19f853cb",
   "metadata": {},
   "outputs": [],
   "source": [
    "# continue\n",
    "# skip that condition and continues the loop"
   ]
  },
  {
   "cell_type": "code",
   "execution_count": 33,
   "id": "f2a647f5",
   "metadata": {},
   "outputs": [
    {
     "name": "stdout",
     "output_type": "stream",
     "text": [
      "1\n",
      "2\n",
      "3\n",
      "4\n",
      "5\n",
      "6\n",
      "8\n",
      "9\n"
     ]
    }
   ],
   "source": [
    "for a in range(10):\n",
    "    if a%7==0: continue\n",
    "    print(a)"
   ]
  },
  {
   "cell_type": "code",
   "execution_count": null,
   "id": "517f7507",
   "metadata": {},
   "outputs": [],
   "source": []
  },
  {
   "cell_type": "code",
   "execution_count": 34,
   "id": "2690d760",
   "metadata": {},
   "outputs": [],
   "source": [
    "# wap that takes 5 values from user and classify them as odds and even lists"
   ]
  },
  {
   "cell_type": "code",
   "execution_count": 38,
   "id": "eb5f622c",
   "metadata": {},
   "outputs": [
    {
     "name": "stdout",
     "output_type": "stream",
     "text": [
      "enter number\n",
      "0\n",
      "enter number\n",
      "2\n",
      "enter number\n",
      "3\n",
      "enter number\n",
      "4\n",
      "enter number\n",
      "1\n",
      "even [0, 2, 4]\n",
      "odd [3, 1]\n"
     ]
    }
   ],
   "source": [
    "odd=[]; even=[]\n",
    "for i in range(5):\n",
    "    inp = int(input('enter number\\n'))\n",
    "    if inp%2==0: even.append(inp)\n",
    "    else: odd.append(inp)\n",
    "print('even',even)\n",
    "print('odd',odd)"
   ]
  },
  {
   "cell_type": "code",
   "execution_count": 1,
   "id": "0731a6ed",
   "metadata": {},
   "outputs": [
    {
     "name": "stdout",
     "output_type": "stream",
     "text": [
      "enter comma separated numbers\n",
      "3,4,2\n",
      "evens: [4, 2]\n",
      "odds: [3]\n"
     ]
    }
   ],
   "source": [
    "evens = []; odds = []\n",
    "nums = input('enter comma separated numbers\\n').split(',')\n",
    "for strnum in nums:\n",
    "    if strnum.isnumeric():\n",
    "        num = int(strnum)\n",
    "        if num%2==0: evens.append(num)\n",
    "        elif num%2!=0: odds.append(num)\n",
    "        else: break\n",
    "print('evens:',evens)\n",
    "print('odds:',odds)"
   ]
  },
  {
   "cell_type": "code",
   "execution_count": null,
   "id": "a768903c",
   "metadata": {},
   "outputs": [],
   "source": []
  },
  {
   "cell_type": "code",
   "execution_count": 39,
   "id": "435a0ddf",
   "metadata": {},
   "outputs": [],
   "source": [
    "# LIST COMPREHENSION"
   ]
  },
  {
   "cell_type": "code",
   "execution_count": 44,
   "id": "3c29226b",
   "metadata": {},
   "outputs": [
    {
     "name": "stdout",
     "output_type": "stream",
     "text": [
      "[1, 3, 5, 7, 9, 11, 13, 15, 17, 19]\n"
     ]
    }
   ],
   "source": [
    "odds=[]\n",
    "for i in range(1,20,2): odds.append(i)\n",
    "print(odds)"
   ]
  },
  {
   "cell_type": "code",
   "execution_count": 47,
   "id": "8b186213",
   "metadata": {},
   "outputs": [
    {
     "data": {
      "text/plain": [
       "[1, 3, 5, 7, 9, 11, 13, 15, 17, 19]"
      ]
     },
     "execution_count": 47,
     "metadata": {},
     "output_type": "execute_result"
    }
   ],
   "source": [
    "[i for i in range(1,20,2)]"
   ]
  },
  {
   "cell_type": "code",
   "execution_count": 54,
   "id": "76a8636f",
   "metadata": {},
   "outputs": [
    {
     "data": {
      "text/plain": [
       "[1, 3, 5, 7, 9, 11, 13, 15, 17, 19]"
      ]
     },
     "execution_count": 54,
     "metadata": {},
     "output_type": "execute_result"
    }
   ],
   "source": [
    "# odd\n",
    "[i for i in range(20) if i%2!=0]"
   ]
  },
  {
   "cell_type": "code",
   "execution_count": 55,
   "id": "e512ae6c",
   "metadata": {},
   "outputs": [
    {
     "data": {
      "text/plain": [
       "[0, 2, 4, 6, 8, 10, 12, 14, 16, 18]"
      ]
     },
     "execution_count": 55,
     "metadata": {},
     "output_type": "execute_result"
    }
   ],
   "source": [
    "# even\n",
    "[i for i in range(20) if i%2==0]"
   ]
  },
  {
   "cell_type": "code",
   "execution_count": 56,
   "id": "b3bb3ba4",
   "metadata": {},
   "outputs": [
    {
     "data": {
      "text/plain": [
       "[2, 4, 6, 8, 10, 12, 14, 16, 18]"
      ]
     },
     "execution_count": 56,
     "metadata": {},
     "output_type": "execute_result"
    }
   ],
   "source": [
    "# even\n",
    "[i for i in range(2,20,2)]"
   ]
  },
  {
   "cell_type": "code",
   "execution_count": 57,
   "id": "b4e0c3ad",
   "metadata": {},
   "outputs": [
    {
     "data": {
      "text/plain": [
       "[1, 3, 5, 7, 9, 11, 13, 15, 17, 19]"
      ]
     },
     "execution_count": 57,
     "metadata": {},
     "output_type": "execute_result"
    }
   ],
   "source": [
    "# odd\n",
    "[i for i in range(1,20,2)]"
   ]
  },
  {
   "cell_type": "code",
   "execution_count": 61,
   "id": "d03d2881",
   "metadata": {},
   "outputs": [
    {
     "name": "stdout",
     "output_type": "stream",
     "text": [
      "odds [1, 3, 5, 7, 9, 11, 13, 15, 17, 19]\n",
      "evens [2, 4, 6, 8, 10, 12, 14, 16, 18]\n"
     ]
    }
   ],
   "source": [
    "# even odd\n",
    "print('odds',[i for i in range(1,20,2)])\n",
    "print('evens',[i for i in range(2,20,2)])"
   ]
  },
  {
   "cell_type": "code",
   "execution_count": 16,
   "id": "47a3d2a8",
   "metadata": {},
   "outputs": [],
   "source": [
    "# while loop"
   ]
  },
  {
   "cell_type": "code",
   "execution_count": 17,
   "id": "609d9ff9",
   "metadata": {},
   "outputs": [
    {
     "name": "stdout",
     "output_type": "stream",
     "text": [
      "nighat raza\n",
      "nighat raza\n",
      "nighat raza\n",
      "nighat raza\n",
      "nighat raza\n",
      "nighat raza\n",
      "nighat raza\n",
      "nighat raza\n",
      "nighat raza\n",
      "nighat raza\n"
     ]
    }
   ],
   "source": [
    "i=1\n",
    "while i<=10:\n",
    "    print('nighat raza')\n",
    "    i+=1"
   ]
  },
  {
   "cell_type": "code",
   "execution_count": 76,
   "id": "b6bdd39f",
   "metadata": {},
   "outputs": [
    {
     "name": "stdout",
     "output_type": "stream",
     "text": [
      "0\n",
      "1\n",
      "2\n",
      "3\n",
      "4\n",
      "5\n",
      "6\n",
      "7\n",
      "8\n",
      "9\n"
     ]
    },
    {
     "data": {
      "text/plain": [
       "10"
      ]
     },
     "execution_count": 76,
     "metadata": {},
     "output_type": "execute_result"
    }
   ],
   "source": [
    "a=0\n",
    "while a<10:print(a);a+=1\n",
    "a"
   ]
  },
  {
   "cell_type": "code",
   "execution_count": 77,
   "id": "f9ea99ac",
   "metadata": {},
   "outputs": [
    {
     "name": "stdout",
     "output_type": "stream",
     "text": [
      "10\n",
      "9\n",
      "8\n",
      "7\n",
      "6\n",
      "5\n",
      "4\n",
      "3\n",
      "2\n",
      "1\n"
     ]
    },
    {
     "data": {
      "text/plain": [
       "0"
      ]
     },
     "execution_count": 77,
     "metadata": {},
     "output_type": "execute_result"
    }
   ],
   "source": [
    "a=10\n",
    "while a>0:print(a);a-=1\n",
    "a"
   ]
  },
  {
   "cell_type": "code",
   "execution_count": null,
   "id": "51e72ca1",
   "metadata": {},
   "outputs": [],
   "source": [
    "# FLAG"
   ]
  },
  {
   "cell_type": "code",
   "execution_count": 85,
   "id": "ea6f8e68",
   "metadata": {},
   "outputs": [
    {
     "name": "stdout",
     "output_type": "stream",
     "text": [
      "enter guest name or press 'q' to exit\n",
      "dsdad\n",
      "enter guest name or press 'q' to exit\n",
      "nhgng\n",
      "enter guest name or press 'q' to exit\n",
      "ee\n",
      "enter guest name or press 'q' to exit\n",
      "rer\n",
      "enter guest name or press 'q' to exit\n",
      "q\n",
      "['dsdad', 'nhgng', 'ee', 'rer']\n"
     ]
    }
   ],
   "source": [
    "guests= []\n",
    "flag = True\n",
    "while flag:\n",
    "    guestname = input('enter guest name or press \\'q\\' to exit\\n')\n",
    "    if guestname=='q': flag=False\n",
    "    else: guests.append(guestname)\n",
    "print(guests)"
   ]
  },
  {
   "cell_type": "code",
   "execution_count": null,
   "id": "c13327e8",
   "metadata": {},
   "outputs": [],
   "source": [
    "guestname = input('enter guest name or press \\'q\\' to exit\\n').split()\n",
    "i = 0\n",
    "while i!=len(guestname)-1:\n",
    "    if guestname[i]=='q': break\n",
    "    guests.append(guestname[i])\n",
    "    i+=1"
   ]
  },
  {
   "cell_type": "code",
   "execution_count": null,
   "id": "3f258c20",
   "metadata": {},
   "outputs": [],
   "source": []
  },
  {
   "cell_type": "code",
   "execution_count": 86,
   "id": "385d1d9e",
   "metadata": {},
   "outputs": [],
   "source": [
    "# DICTIONARIES"
   ]
  },
  {
   "cell_type": "code",
   "execution_count": 87,
   "id": "10bcb125",
   "metadata": {},
   "outputs": [
    {
     "data": {
      "text/plain": [
       "dict"
      ]
     },
     "execution_count": 87,
     "metadata": {},
     "output_type": "execute_result"
    }
   ],
   "source": [
    "type({})"
   ]
  },
  {
   "cell_type": "code",
   "execution_count": 91,
   "id": "daa9aeda",
   "metadata": {},
   "outputs": [
    {
     "data": {
      "text/plain": [
       "dict"
      ]
     },
     "execution_count": 91,
     "metadata": {},
     "output_type": "execute_result"
    }
   ],
   "source": [
    "d = {'name':'nighat','age':18,23:False}\n",
    "type(d)"
   ]
  },
  {
   "cell_type": "code",
   "execution_count": 90,
   "id": "ed6489de",
   "metadata": {},
   "outputs": [
    {
     "data": {
      "text/plain": [
       "set"
      ]
     },
     "execution_count": 90,
     "metadata": {},
     "output_type": "execute_result"
    }
   ],
   "source": [
    "s = {2}\n",
    "type(s)"
   ]
  },
  {
   "cell_type": "code",
   "execution_count": 92,
   "id": "d3ef1091",
   "metadata": {},
   "outputs": [
    {
     "data": {
      "text/plain": [
       "False"
      ]
     },
     "execution_count": 92,
     "metadata": {},
     "output_type": "execute_result"
    }
   ],
   "source": [
    "d[23]"
   ]
  },
  {
   "cell_type": "code",
   "execution_count": 93,
   "id": "5110a7f0",
   "metadata": {},
   "outputs": [
    {
     "data": {
      "text/plain": [
       "dict_keys(['name', 'age', 23])"
      ]
     },
     "execution_count": 93,
     "metadata": {},
     "output_type": "execute_result"
    }
   ],
   "source": [
    "d.keys()"
   ]
  },
  {
   "cell_type": "code",
   "execution_count": 94,
   "id": "7c6537fe",
   "metadata": {},
   "outputs": [
    {
     "data": {
      "text/plain": [
       "dict_values(['nighat', 18, False])"
      ]
     },
     "execution_count": 94,
     "metadata": {},
     "output_type": "execute_result"
    }
   ],
   "source": [
    "d.values()"
   ]
  },
  {
   "cell_type": "code",
   "execution_count": 97,
   "id": "a7797544",
   "metadata": {},
   "outputs": [
    {
     "data": {
      "text/plain": [
       "{'name': 'nighat', 'age': 18, 23: False, 45.4: 'yellow23', '45.4': 'yellow23'}"
      ]
     },
     "execution_count": 97,
     "metadata": {},
     "output_type": "execute_result"
    }
   ],
   "source": [
    "d['45.4'] = 'yellow23'\n",
    "d"
   ]
  },
  {
   "cell_type": "code",
   "execution_count": 99,
   "id": "6c994292",
   "metadata": {},
   "outputs": [
    {
     "data": {
      "text/plain": [
       "'yellow23'"
      ]
     },
     "execution_count": 99,
     "metadata": {},
     "output_type": "execute_result"
    }
   ],
   "source": [
    "d.pop('45.4')"
   ]
  },
  {
   "cell_type": "code",
   "execution_count": 101,
   "id": "6b435fb3",
   "metadata": {},
   "outputs": [
    {
     "name": "stdout",
     "output_type": "stream",
     "text": [
      "name nighat\n",
      "age 18\n",
      "23 False\n",
      "45.4 yellow23\n"
     ]
    }
   ],
   "source": [
    "for key in d:\n",
    "    print(key,d[key])"
   ]
  },
  {
   "cell_type": "code",
   "execution_count": 104,
   "id": "80994d07",
   "metadata": {},
   "outputs": [
    {
     "name": "stdout",
     "output_type": "stream",
     "text": [
      "name\n",
      "age\n",
      "23\n",
      "45.4\n"
     ]
    }
   ],
   "source": [
    "for key in d.keys():\n",
    "    print(key)"
   ]
  },
  {
   "cell_type": "code",
   "execution_count": 105,
   "id": "ff05f978",
   "metadata": {},
   "outputs": [
    {
     "name": "stdout",
     "output_type": "stream",
     "text": [
      "nighat\n",
      "18\n",
      "False\n",
      "yellow23\n"
     ]
    }
   ],
   "source": [
    "for value in d.values():\n",
    "    print(value)"
   ]
  },
  {
   "cell_type": "code",
   "execution_count": 106,
   "id": "4f9751b5",
   "metadata": {},
   "outputs": [
    {
     "name": "stdout",
     "output_type": "stream",
     "text": [
      "name nighat\n",
      "age 18\n",
      "23 False\n",
      "45.4 yellow23\n"
     ]
    }
   ],
   "source": [
    "for key,value in d.items():\n",
    "    print(key,value)"
   ]
  },
  {
   "cell_type": "code",
   "execution_count": 115,
   "id": "ef39a894",
   "metadata": {},
   "outputs": [
    {
     "name": "stdout",
     "output_type": "stream",
     "text": [
      "('name', 'nighat')\n",
      "('age', 18)\n",
      "(23, False)\n",
      "(45.4, 'yellow23')\n"
     ]
    }
   ],
   "source": [
    "for a in d.items(): #unpacking as a tuple (values2)\n",
    "    print(a) "
   ]
  },
  {
   "cell_type": "code",
   "execution_count": 107,
   "id": "538136dc",
   "metadata": {},
   "outputs": [
    {
     "data": {
      "text/plain": [
       "dict_items([('name', 'nighat'), ('age', 18), (23, False), (45.4, 'yellow23')])"
      ]
     },
     "execution_count": 107,
     "metadata": {},
     "output_type": "execute_result"
    }
   ],
   "source": [
    "d.items()"
   ]
  },
  {
   "cell_type": "code",
   "execution_count": 108,
   "id": "ec3059c6",
   "metadata": {},
   "outputs": [],
   "source": [
    "# PACKING AND UNPACKING"
   ]
  },
  {
   "cell_type": "code",
   "execution_count": 109,
   "id": "a293ac06",
   "metadata": {},
   "outputs": [],
   "source": [
    "# packing\n",
    "alist = [2,3]"
   ]
  },
  {
   "cell_type": "code",
   "execution_count": 110,
   "id": "210e9df4",
   "metadata": {},
   "outputs": [],
   "source": [
    "# unpacking\n",
    "nighat,raza = alist"
   ]
  },
  {
   "cell_type": "code",
   "execution_count": 111,
   "id": "0e6d3afe",
   "metadata": {},
   "outputs": [
    {
     "data": {
      "text/plain": [
       "3"
      ]
     },
     "execution_count": 111,
     "metadata": {},
     "output_type": "execute_result"
    }
   ],
   "source": [
    "raza"
   ]
  },
  {
   "cell_type": "code",
   "execution_count": 114,
   "id": "6efe42b5",
   "metadata": {},
   "outputs": [
    {
     "data": {
      "text/plain": [
       "(100, 22)"
      ]
     },
     "execution_count": 114,
     "metadata": {},
     "output_type": "execute_result"
    }
   ],
   "source": [
    "a = 100,22\n",
    "a"
   ]
  },
  {
   "cell_type": "code",
   "execution_count": 116,
   "id": "726677ed",
   "metadata": {},
   "outputs": [],
   "source": [
    "x,y = a"
   ]
  },
  {
   "cell_type": "code",
   "execution_count": 117,
   "id": "6fe7d900",
   "metadata": {},
   "outputs": [
    {
     "data": {
      "text/plain": [
       "45.4"
      ]
     },
     "execution_count": 117,
     "metadata": {},
     "output_type": "execute_result"
    }
   ],
   "source": [
    "x"
   ]
  },
  {
   "cell_type": "code",
   "execution_count": 118,
   "id": "622b1523",
   "metadata": {},
   "outputs": [
    {
     "data": {
      "text/plain": [
       "'yellow23'"
      ]
     },
     "execution_count": 118,
     "metadata": {},
     "output_type": "execute_result"
    }
   ],
   "source": [
    "y"
   ]
  },
  {
   "cell_type": "code",
   "execution_count": null,
   "id": "ca04afca",
   "metadata": {},
   "outputs": [],
   "source": []
  }
 ],
 "metadata": {
  "kernelspec": {
   "display_name": "Python 3",
   "language": "python",
   "name": "python3"
  },
  "language_info": {
   "codemirror_mode": {
    "name": "ipython",
    "version": 3
   },
   "file_extension": ".py",
   "mimetype": "text/x-python",
   "name": "python",
   "nbconvert_exporter": "python",
   "pygments_lexer": "ipython3",
   "version": "3.8.8"
  }
 },
 "nbformat": 4,
 "nbformat_minor": 5
}
